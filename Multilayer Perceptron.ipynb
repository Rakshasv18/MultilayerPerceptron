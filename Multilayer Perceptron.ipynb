{
 "cells": [
  {
   "cell_type": "markdown",
   "id": "648135dd",
   "metadata": {},
   "source": [
    "## Sigmoid Function"
   ]
  },
  {
   "cell_type": "code",
   "execution_count": 1,
   "id": "512515b3",
   "metadata": {
    "ExecuteTime": {
     "end_time": "2022-10-02T17:46:51.136084Z",
     "start_time": "2022-10-02T17:46:50.557774Z"
    }
   },
   "outputs": [],
   "source": [
    "#import libraries\n",
    "import numpy as np\n",
    "import matplotlib.pyplot as plt"
   ]
  },
  {
   "cell_type": "code",
   "execution_count": 2,
   "id": "d1869cdf",
   "metadata": {
    "ExecuteTime": {
     "end_time": "2022-10-02T17:46:51.140263Z",
     "start_time": "2022-10-02T17:46:51.137544Z"
    }
   },
   "outputs": [],
   "source": [
    "# sigmoid activation function \n",
    "def sigmoid(x):\n",
    "    return 1/(1 + np.exp(-x))"
   ]
  },
  {
   "cell_type": "markdown",
   "id": "b76b2ee3",
   "metadata": {},
   "source": [
    "## Implementation of Multilayer Perceptron"
   ]
  },
  {
   "cell_type": "code",
   "execution_count": 3,
   "id": "99a2013e",
   "metadata": {
    "ExecuteTime": {
     "end_time": "2022-10-02T17:46:51.145428Z",
     "start_time": "2022-10-02T17:46:51.143248Z"
    }
   },
   "outputs": [],
   "source": [
    "#define weights and bias as w and b, x is input array, lastly 'a' being the node\n",
    "x = np.array([0.5, 1])\n",
    "w1 = np.array([[0.1, 0.2, 0.15], [0.6, 0.2, 0.8]]) \n",
    "b1 = np.array([0.1, 0.2, 0.05])"
   ]
  },
  {
   "cell_type": "code",
   "execution_count": 4,
   "id": "aef4456d",
   "metadata": {
    "ExecuteTime": {
     "end_time": "2022-10-02T17:46:51.154106Z",
     "start_time": "2022-10-02T17:46:51.147627Z"
    }
   },
   "outputs": [
    {
     "data": {
      "text/plain": [
       "array([0.75 , 0.5  , 0.925])"
      ]
     },
     "execution_count": 4,
     "metadata": {},
     "output_type": "execute_result"
    }
   ],
   "source": [
    "#calculate the dot product and sum with bias \n",
    "a1 = np.dot(x, w1) + b1\n",
    "a1"
   ]
  },
  {
   "cell_type": "code",
   "execution_count": 5,
   "id": "b46a2849",
   "metadata": {
    "ExecuteTime": {
     "end_time": "2022-10-02T17:46:51.158084Z",
     "start_time": "2022-10-02T17:46:51.155220Z"
    }
   },
   "outputs": [
    {
     "data": {
      "text/plain": [
       "array([0.6791787 , 0.62245933, 0.71605979])"
      ]
     },
     "execution_count": 5,
     "metadata": {},
     "output_type": "execute_result"
    }
   ],
   "source": [
    "#calculate the activation function for a1\n",
    "z1 = sigmoid(a1)\n",
    "z1"
   ]
  },
  {
   "cell_type": "code",
   "execution_count": 6,
   "id": "630c855c",
   "metadata": {
    "ExecuteTime": {
     "end_time": "2022-10-02T17:46:51.162689Z",
     "start_time": "2022-10-02T17:46:51.159228Z"
    }
   },
   "outputs": [
    {
     "data": {
      "text/plain": [
       "array([[0.1 , 0.2 ],\n",
       "       [0.05, 0.5 ],\n",
       "       [0.1 , 0.2 ]])"
      ]
     },
     "execution_count": 6,
     "metadata": {},
     "output_type": "execute_result"
    }
   ],
   "source": [
    "#define the weights for second node \n",
    "w2 = np.array([[0.1, 0.2], [0.05, 0.5], [0.1, 0.2]])\n",
    "w2"
   ]
  },
  {
   "cell_type": "code",
   "execution_count": 7,
   "id": "36343f11",
   "metadata": {
    "ExecuteTime": {
     "end_time": "2022-10-02T17:46:51.167501Z",
     "start_time": "2022-10-02T17:46:51.163989Z"
    }
   },
   "outputs": [
    {
     "data": {
      "text/plain": [
       "array([0.4, 0.5])"
      ]
     },
     "execution_count": 7,
     "metadata": {},
     "output_type": "execute_result"
    }
   ],
   "source": [
    "#define bias for second node \n",
    "\n",
    "b2 = np.array([0.4, 0.5])\n",
    "b2"
   ]
  },
  {
   "cell_type": "code",
   "execution_count": 8,
   "id": "d67a3091",
   "metadata": {
    "ExecuteTime": {
     "end_time": "2022-10-02T17:46:51.172938Z",
     "start_time": "2022-10-02T17:46:51.170191Z"
    }
   },
   "outputs": [
    {
     "data": {
      "text/plain": [
       "array([0.57064682, 1.09027736])"
      ]
     },
     "execution_count": 8,
     "metadata": {},
     "output_type": "execute_result"
    }
   ],
   "source": [
    "#calculate the dot product and sum with bias \n",
    "a2 = np.dot(z1, w2) + b2\n",
    "a2"
   ]
  },
  {
   "cell_type": "code",
   "execution_count": 9,
   "id": "e2583af0",
   "metadata": {
    "ExecuteTime": {
     "end_time": "2022-10-02T17:46:51.176708Z",
     "start_time": "2022-10-02T17:46:51.174038Z"
    }
   },
   "outputs": [
    {
     "data": {
      "text/plain": [
       "array([0.63891241, 0.74843395])"
      ]
     },
     "execution_count": 9,
     "metadata": {},
     "output_type": "execute_result"
    }
   ],
   "source": [
    "#calculate the activation function for a2\n",
    "\n",
    "z2 = sigmoid(a2)\n",
    "z2"
   ]
  },
  {
   "cell_type": "code",
   "execution_count": 10,
   "id": "1bdb20b3",
   "metadata": {
    "ExecuteTime": {
     "end_time": "2022-10-02T17:46:51.180749Z",
     "start_time": "2022-10-02T17:46:51.177792Z"
    }
   },
   "outputs": [],
   "source": [
    "#define weight and bias for second node \n",
    "\n",
    "w3 = np.array([[0.1, 0.2], [0.9, 0.8]])\n",
    "b3 = np.array([0.9, 0.9])"
   ]
  },
  {
   "cell_type": "code",
   "execution_count": 11,
   "id": "0cdd1208",
   "metadata": {
    "ExecuteTime": {
     "end_time": "2022-10-02T17:46:51.185284Z",
     "start_time": "2022-10-02T17:46:51.182393Z"
    }
   },
   "outputs": [
    {
     "data": {
      "text/plain": [
       "array([1.63748179, 1.62652964])"
      ]
     },
     "execution_count": 11,
     "metadata": {},
     "output_type": "execute_result"
    }
   ],
   "source": [
    "#calculate the activation function\n",
    "a3 = np.dot(z2, w3) + b3\n",
    "a3"
   ]
  },
  {
   "cell_type": "code",
   "execution_count": 12,
   "id": "2e74289a",
   "metadata": {
    "ExecuteTime": {
     "end_time": "2022-10-02T17:46:51.190651Z",
     "start_time": "2022-10-02T17:46:51.187390Z"
    }
   },
   "outputs": [
    {
     "data": {
      "text/plain": [
       "array([0.83719199, 0.83569368])"
      ]
     },
     "execution_count": 12,
     "metadata": {},
     "output_type": "execute_result"
    }
   ],
   "source": [
    "#calculate the activation function for a3\n",
    "z3 = sigmoid(a3)\n",
    "z3"
   ]
  }
 ],
 "metadata": {
  "kernelspec": {
   "display_name": "Python 3 (ipykernel)",
   "language": "python",
   "name": "python3"
  },
  "language_info": {
   "codemirror_mode": {
    "name": "ipython",
    "version": 3
   },
   "file_extension": ".py",
   "mimetype": "text/x-python",
   "name": "python",
   "nbconvert_exporter": "python",
   "pygments_lexer": "ipython3",
   "version": "3.7.13"
  },
  "toc": {
   "base_numbering": 1,
   "nav_menu": {},
   "number_sections": true,
   "sideBar": true,
   "skip_h1_title": false,
   "title_cell": "Table of Contents",
   "title_sidebar": "Contents",
   "toc_cell": false,
   "toc_position": {},
   "toc_section_display": true,
   "toc_window_display": false
  }
 },
 "nbformat": 4,
 "nbformat_minor": 5
}
